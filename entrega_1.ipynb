{
 "cells": [
  {
   "cell_type": "markdown",
   "metadata": {},
   "source": [
    "# PROJETO APLICADO IV - Ciência de Dados EaD - 2025/01\n",
    "# Entrega 1"
   ]
  },
  {
   "cell_type": "markdown",
   "metadata": {},
   "source": [
    "## PANDEMIA E EDUCAÇÃO: A RELAÇÃO ENTRE CASOS DE COVID-19 E A EVASÃO ESCOLAR"
   ]
  },
  {
   "cell_type": "markdown",
   "metadata": {},
   "source": [
    "### Introdução\n",
    "\n",
    "A evasão escolar é um problema presente na educação brasileira, atingindo todos os níveis de educação, o que afeta o desenvolvimento dos indivíduos e da economia do país. A permanência no ambiente escolar tende a ser um fator determinante no desenvolvimento econômico e social de um cidadão, uma vez que ela pode trazer maiores oportunidades de emprego e crescimento pessoal, sendo fundamental para a redução das desigualdades sociais e o desenvolvimento e crescimento econômico de um país. \n",
    "\n",
    "\n",
    "De acordo com Silva Filho e Araújo (2017) a “evasão e o abandono representam um processo muito complexo, dinâmico e cumulativo de saída do estudante do espaço da vida escolar”. A evasão escolar pode não estar relacionada apenas ao próprio aluno, mas também à políticas do governo e à família. Sousa et al. (2011) destacam, entre os motivos para a evasão escolar, a necessidade de ingresso no mercado de trabalho para auxiliar no sustento da família ou o próprio, o envolvimento na criminalidade e na violência, a má qualidade do ensino e conflitos no convívio familiar. \n",
    "\n",
    "\n",
    "A pandemia, iniciada em 2020, trouxe desafios para a educação ao redor do mundo. Com o fechamento das escolas e a adoção do ensino à distância e remoto, problemas como a falta de acesso à internet, ausência de equipamentos adequados e a necessidade de adaptação de toda a família ao novo modelo educacional foram fatores que dificultaram a continuidade dos estudos por parte de uma parcela de alunos. Além disso, diante dos problemas econômicos gerados pela pandemia, diversos alunos precisaram ingressar no mercado de trabalho para auxiliar no sustento familiar.\n",
    "\n",
    "\n",
    "Diante deste cenário, este estudo tem como objetivo analisar a existência de uma correlação entre o aumento de casos de Covid-19 durante a pandemia e os índices de evasão escolar, em especial no ensino médio. \n",
    "\n"
   ]
  },
  {
   "cell_type": "markdown",
   "metadata": {},
   "source": [
    "### Motivações e justificativa\n",
    "\n",
    "A compreensão da correlação entre o aumento de casos de Covid 19 e o índice de evasão escolar no ensino médio durante o período da pandemia é essencial para auxiliar a formulação de políticas públicas que procurem minimizar seus impactos a longo prazo. \n",
    "\n",
    "\n",
    "A evasão de estudantes do ensino médio pode comprometer o desenvolvimento social e econômico, agravando as desigualdades já existentes na nossa sociedade. Diante disso, torna-se fundamental o entendimento de fatores que influenciam tal evasão, como uma forma de auxiliar a tomada de decisão para evitar o aumento dessa taxa. \n",
    "\n",
    "\n",
    "O presente trabalho pretende fornecer informações relevantes que podem ser utilizadas por pesquisadores, gestores públicos e educadores, como forma de contribuir para a criação de estratégias e políticas públicas que incentivem a permanência dos estudantes na escola. \n"
   ]
  },
  {
   "cell_type": "markdown",
   "metadata": {},
   "source": [
    "### Objetivo\n",
    "\n",
    "Neste projeto, o objetivo será apresentar a existência de uma correlação entre o aumento dos casos de covid e o aumento do abandono do ensino médio nos anos da pandemia. Serão apresentados dados agrupados por estados brasileiros e por regiões. O uso de séries temporais será essencial para expandir a análise proposta, e portanto, será a principal ferramenta de visualização de dados empregada neste projeto. \n",
    "\n",
    "Com o objetivo de trazer reflexões sobre as causas do abandono escolar, será feito também uma predição de como a proporção do abandono escolar deveria estar quando os casos de covid diminuem após o fim da pandemia. Para isso, serão utilizados modelos preditivos de regressão, que auxiliaram a gerar uma estimativa das quantidades de alunos que abandoraram o ensino médio nos anos pós pandemia. \n"
   ]
  },
  {
   "cell_type": "markdown",
   "metadata": {},
   "source": [
    "### Descrição da base de dados\n",
    "\n",
    "As bases de dados utilizadas neste projeto são as seguintes:\n",
    "- Abandono por UF: contém a quantidade de estudantes que abandonaram o ensino médio, agrupados pelos estados brasileiros. Os dados são referente aos anos de 2019 à 2021. A estrutura da tabela apresenta as colunas “Número de estudantes que abandonaram o EM”, “2019”, “2020” e “2021”. A coleta foi feita por meio de download dos dados no site do Instituto de Estudos Socioeconômicos (INESC).\n",
    "- Abandono por Região: contém a quantidade de estudantes que abandonaram o ensino médio, agrupados pelas regiões brasileiras. Os dados são referente aos anos de 2019 à 2021. A estrutura da tabela apresenta as colunas “Região”, “2019”, “2020”,  “2021”, “Var. em 2019 e 2020” e “Var. em 2020 e 2021”. A coleta foi feita por meio de download dos dados no site do INESC.\n",
    "- Covid por região: contém informações sobre os casos de covid agrupados pelas regiões brasileiras. Os dados são referente aos anos de 2020 à 2025. A estrutura da tabela apresenta as colunas \"Região\", \"População\", \"Casos novos notificados na semana epidemiológica\", \"Casos Acumulados\", \"Incidência covid-19 (100 mil hab)\", \"Óbitos novos notificados na semana epidemiológica\", \"Óbitos Acumulados\", \"Taxa mortalidade (100 mil hab)\". A coleta foi feita por meio de download dos dados no site do ministério da saúde por meio de filtros de seleção para escolher o período dos dados.\n",
    "- Covid por UF: contém informações sobre os casos de covid agrupados pelos estados brasileiros. Os dados são referente aos anos de 2020 à 2025. A estrutura da tabela apresenta as colunas \"UF\", \"População\", \"Casos novos notificados na semana epidemiológica\", \"Casos Acumulados\", \"Incidência covid-19 (100 mil hab)\", \"Óbitos novos notificados na semana epidemiológica\", \"Óbitos Acumulados\", \"Taxa mortalidade (100 mil hab)\". A coleta foi feita por meio de download dos dados no site do ministério da saúde por meio de filtros de seleção para escolher o período dos dados.\n"
   ]
  }
 ],
 "metadata": {
  "language_info": {
   "name": "python"
  }
 },
 "nbformat": 4,
 "nbformat_minor": 2
}
