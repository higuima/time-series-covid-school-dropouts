{
 "cells": [
  {
   "cell_type": "markdown",
   "metadata": {},
   "source": [
    "# PROJETO APLICADO IV - Ciência de Dados EaD - 2025/01\n",
    "# Entrega 2"
   ]
  },
  {
   "cell_type": "markdown",
   "metadata": {},
   "source": [
    "## PANDEMIA E EDUCAÇÃO: A RELAÇÃO ENTRE CASOS DE COVID-19 E A EVASÃO ESCOLAR"
   ]
  },
  {
   "cell_type": "markdown",
   "metadata": {},
   "source": [
    "### Referencial teórico\n",
    "\n",
    "As séries temporais são conjuntos de observações coletadas sequencialmente ao longo do tempo, permitindo a análise da evolução de fenômenos em diferentes períodos. No contexto educacional e de saúde pública, a modelagem de séries temporais pode ser uma ferramenta valiosa para investigar a relação entre variáveis ao longo do tempo, como a associação entre o número de casos de COVID-19 e a evasão escolar. A análise dessas séries permite identificar possíveis impactos da pandemia no abandono escolar e fornecer subsídios para políticas públicas mais eficazes.\n",
    "\n",
    "De acordo com Morales, Rodrigues e Garcia (2024), as séries temporais são conjuntos de observações sequenciais no tempo, com intervalos regulares ou irregulares, tendo como objetivo dessas análises é identificar padrões e tendências ao longo do tempo. Segundo Bernal, Cummings e Gasparrini (2017) a quebra de segmento temporal pode ocorrer tanto por intervenções planejadas quanto por eventos inesperados que alteram significativamente o comportamento da série, como no caso da pandemia de COVID-19.\n",
    "\n",
    "Dentro dos modelos existentes de pesquisas de séries temporais, na área da saúde o modelo mais utilizado é o ARIMA (AutoRegressive Integrated Moving Average) (Sato, 2013). Segundo Noble (2024) o modelo ARIMA é “uma técnica para análise de séries temporais e forecasting de possíveis valores futuros de uma série temporal”. \n",
    "\n",
    "No contexto da pandemia de COVID-19, existem diversos estudos comparativos entre os dados dos números de casos relacionados com outras variáveis. Neri e Osorio (2021) analisaram os dados de evasão escolar durante o período da pandemia. Dentre os resultados encontrados, o acesso à internet por uma grande parte dos estudantes foi fator determinante para a continuidade dos estudos de Ensino Médio e Fundamental. Ao final do estudo, os “resultados  apontam  para  uma  perda  do crescimento e da equidade na acumulação de capital humano, com efeitos negativos para o país no longo prazo”. (Neri; Osorio, 2021).\n"
   ]
  },
  {
   "cell_type": "markdown",
   "metadata": {},
   "source": [
    "### Pipeline de solução\n",
    "\n",
    "Neste projeto será utilizado a metodologia ARIMA para as estimativas futuras de casos de abandono dos estudos. Primeiramente, após a coleta dos dados, é necessário realizar o pré-processamento, garantindo que as datas estejam corretamente formatadas e definidas como índice. Também é fundamental tratar valores ausentes, que podem ser preenchidos por interpolação, média móvel ou simplesmente removidos. Além disso, outliers devem ser identificados e ajustados para evitar distorções no modelo. Para estabilizar a variância e tornar a série mais adequada à modelagem, transformações como logaritmo ou diferenciação podem ser aplicadas.\n",
    "\n",
    "Após o pré-processamento, a análise exploratória permite compreender melhor os padrões da série. A visualização dos dados ajuda a identificar tendências e sazonalidade, enquanto os gráficos de autocorrelação (ACF) e autocorrelação parcial (PACF) são usados para analisar dependências temporais. Para determinar se a série é estacionária, aplica-se o Teste de Dickey-Fuller Aumentado (ADF). Caso a série não seja estacionária, pode ser necessário aplicar diferenciação até que os resíduos apresentem um comportamento adequado para modelagem.\n",
    "\n",
    "Com os dados preparados, o próximo passo é definir os hiperparâmetros do modelo ARIMA. O valor de d corresponde ao número de diferenciações necessárias para tornar a série estacionária, enquanto p e q são determinados a partir dos gráficos PACF e ACF, respectivamente. Para facilitar esse processo, é possível utilizar auto-ARIMA, que escolhe automaticamente os melhores parâmetros com base em critérios estatísticos.\n",
    "\n",
    "Antes de treinar o modelo, os dados devem ser divididos entre treino e teste, geralmente utilizando 80% da série para treino e 20% para teste. Caso necessário, pode-se normalizar os valores para melhorar a estabilidade do modelo. Com os dados preparados, o modelo ARIMA é treinado e ajustado. Durante essa fase, é importante utilizar validação cruzada por rolling forecast, especialmente em séries temporais. Para avaliar o desempenho do modelo, métricas como RMSE (Root Mean Squared Error), MAE (Mean Absolute Error) e MAPE (Mean Absolute Percentage Error) devem ser monitoradas.\n",
    "Após o treinamento, o modelo é utilizado para gerar previsões. O ARIMA também fornece intervalos de confiança, que ajudam a entender a incerteza associada às previsões. Caso os dados tenham sido normalizados, é necessário reverter essa transformação para obter os valores na escala original.\n",
    "\n",
    "Por fim, o modelo precisa ser monitorado continuamente para garantir que continue performando bem ao longo do tempo. Mudanças nos padrões da série podem exigir re-treinamento ou ajustes nos hiperparâmetros. Se o modelo apresentar dificuldades em capturar padrões sazonais complexos, alternativas como SARIMA ou Prophet podem ser exploradas para melhorar a qualidade das previsões. Seguindo essa pipeline, é possível aplicar o ARIMA de forma eficiente, extraindo insights valiosos das séries temporais.\n",
    "\n"
   ]
  },
  {
   "cell_type": "markdown",
   "metadata": {},
   "source": [
    "### Cronograma\n",
    "\n",
    "![Cronograma](images/cronograma.png \"Cronograma\")\n"
   ]
  },
  {
   "cell_type": "markdown",
   "metadata": {},
   "source": [
    "### Referências\n",
    "\n",
    "BERNAL, James Lopez; CUMMINS, Steven; GASPARRINI, Antonio.  Interrupted time series regression for the evaluation of public health interventions: a tutorial. International Journal of Epidemiology, v. 46, n. 1, 2017. Disponível em: https://academic.oup.com/ije/article/46/1/348/2622842. Acesso em: 28 mar. 2025.\n",
    "\n",
    "INSTITUTO DE ESTUDOS SOCIOECONÔMICOS (INESC). Abandono no Ensino Médio brasileiro duplicou na pandemia. 06 de novembro de 2023. Disponível em: https://inesc.org.br/abandono-no-ensino-medio-brasileiro-duplicou-na-pandemia/. Acesso em: 28 fev. 2025.\n",
    "\n",
    "\n",
    "MINISTÉRIO DA SAÚDE. Covid-19 no brasil. 27 de fevereiro de 2025. Disponível em: https://infoms.saude.gov.br/extensions/covid-19_html/covid-19_html.html. Acesso em: 28 fev. 2025.\n",
    "\n",
    "\n",
    "MORALES, Luiza Maria Parise; RODRIGUES, Samara Carolina; GARCIA, Klauss Kleydmann Sabino. O impacto da pandemia de Covid-19 nos acidentes de trabalho com exposição a material biológico no Brasil: uma análise de séries temporais interrompidas. Rev. Bras. Epidemiol, v. 27, 2024. Disponível em: https://www.scielosp.org/pdf/rbepid/2024.v27/e240067/pt. Acesso em 28 mar. 2025.\n",
    "\n",
    "NERI, Marcelo; OSORIO, Camillo Manuel. Evasão escolar e jornada remota na pandemia. Revista NECAT, v. 10, n. 19, 2021. Disponível em: https://ojs.sites.ufsc.br/index.php/revistanecat/article/view/4848/3607. Acesso em: 28 mar. 2025.\n",
    "\n",
    "NOBLE, Joshua.  Apresentando os modelos ARIMA. IBM. 24 de maio de 2024. Disponível em: https://www.ibm.com/br-pt/think/topics/arima-model. Acesso em: 28 mar. 2025.\n",
    "\n",
    "SATO, Renato Cesar. Gerenciamento de doenças utilizando séries temporais com o modelo ARIMA. Revendo Ciências Básicas, v. 11, n. 1, 2013. Disponível em:  https://www.scielo.br/j/eins/a/XqhY6VzmzbyZ9yRxLYzjCct/?format=pdf&lang=pt. Acesso em: 28 mar. 2025.\n",
    "\n",
    "SILVA FILHO, R. B.; ARAÚJO, R. M. L. Evasão e abandono escolar na educação básica no Brasil: fatores,causas e possíveis consequências. Educação por escrito, Porto Alegre, v. 8, n. 1, p. 35-48, jan./jun. 2017. Disponível em: https://pucrs.emnuvens.com.br/porescrito/article/view/24527/15729. Acesso em: 28 fev. 2025.\n",
    "\n",
    "SOUSA, A. A. et al. Evasão escolar no ensino médio: velhos ou novos dilemas? Vértices, Campos dos Goytacazes, v. 13, n. 1, p. 25-37, jan./abr. 2011. Disponível em: https://editoraessentia.iff.edu.br/index.php/vertices/article/view/1809-2667.20110002/641. Acesso em: 28 fev. 2025. \n"
   ]
  }
 ],
 "metadata": {
  "language_info": {
   "name": "python"
  }
 },
 "nbformat": 4,
 "nbformat_minor": 2
}
